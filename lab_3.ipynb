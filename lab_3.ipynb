{
 "cells": [
  {
   "cell_type": "code",
   "execution_count": 1,
   "metadata": {},
   "outputs": [],
   "source": [
    "import re"
   ]
  },
  {
   "cell_type": "code",
   "execution_count": 2,
   "metadata": {},
   "outputs": [
    {
     "name": "stdout",
     "output_type": "stream",
     "text": [
      "['a', 'b', 'd', 'l', 'a', 'i', 'm', 'h', 'e', 'd', 'e', 'i', 'd', 'a', 'l', 'h', 'e', 'j', 'a', 'i', 'l', 'i']\n"
     ]
    }
   ],
   "source": [
    "txt = \"abdulaziz murshed eid alhejaili 3700748\"\n",
    "x = re.findall(\"[a-m]\", txt)\n",
    "print(x)"
   ]
  },
  {
   "cell_type": "code",
   "execution_count": 3,
   "metadata": {},
   "outputs": [
    {
     "name": "stdout",
     "output_type": "stream",
     "text": [
      "['3', '7', '0', '0', '7', '4', '8']\n"
     ]
    }
   ],
   "source": [
    "txt = \"abdulaziz murshed eid alhejaili 3700748\"\n",
    "x = re.findall(\"\\d\", txt)\n",
    "print(x)"
   ]
  },
  {
   "cell_type": "code",
   "execution_count": 4,
   "metadata": {},
   "outputs": [
    {
     "name": "stdout",
     "output_type": "stream",
     "text": [
      "['murshed']\n"
     ]
    }
   ],
   "source": [
    "txt = \"abdulaziz murshed eid alhejaili 3700748\"\n",
    "x = re.findall(\"mu...ed\", txt)\n",
    "print(x)"
   ]
  },
  {
   "cell_type": "code",
   "execution_count": 5,
   "metadata": {},
   "outputs": [
    {
     "name": "stdout",
     "output_type": "stream",
     "text": [
      "No match\n"
     ]
    }
   ],
   "source": [
    "txt = \"abdulaziz murshed eid alhejaili 3700748\"\n",
    "x = re.findall(\"^hello\", txt)\n",
    "if x:\n",
    "  print(\"Yes, the string starts with 'hello'\")\n",
    "else:\n",
    "  print(\"No match\")"
   ]
  },
  {
   "cell_type": "code",
   "execution_count": 6,
   "metadata": {},
   "outputs": [
    {
     "name": "stdout",
     "output_type": "stream",
     "text": [
      "Yes, the string ends with 3700748\n"
     ]
    }
   ],
   "source": [
    "txt = \"abdulaziz murshed eid alhejaili 3700748\"\n",
    "x = re.findall(\"3700748$\", txt)\n",
    "if x:\n",
    "  print(\"Yes, the string ends with 3700748\")\n",
    "else:\n",
    "  print(\"No match\")"
   ]
  },
  {
   "cell_type": "code",
   "execution_count": 7,
   "metadata": {},
   "outputs": [
    {
     "name": "stdout",
     "output_type": "stream",
     "text": [
      "[]\n",
      "No match\n"
     ]
    }
   ],
   "source": [
    "txt = \"abdulaziz murshed eid alhejaili 3700748\"\n",
    "x = re.findall(\"\\AThe\", txt)\n",
    "print(x)\n",
    "if x:\n",
    "  print(\"Yes, there is a match!\")\n",
    "else:\n",
    "  print(\"No match\")"
   ]
  },
  {
   "cell_type": "code",
   "execution_count": 8,
   "metadata": {},
   "outputs": [
    {
     "name": "stdout",
     "output_type": "stream",
     "text": [
      "['ai']\n",
      "Yes, there is at least one match!\n"
     ]
    }
   ],
   "source": [
    "txt = \"abdulaziz murshed eid alhejaili 3700748\"\n",
    "x = re.findall(\"aix*\", txt)\n",
    "print(x)\n",
    "if x:\n",
    "  print(\"Yes, there is at least one match!\")\n",
    "else:\n",
    "  print(\"No match\")"
   ]
  },
  {
   "cell_type": "code",
   "execution_count": 9,
   "metadata": {},
   "outputs": [
    {
     "name": "stdout",
     "output_type": "stream",
     "text": [
      "['ail']\n",
      "Yes, there is at least one match!\n"
     ]
    }
   ],
   "source": [
    "txt = \"abdulaziz murshed eid alhejaili 3700748\"\n",
    "x = re.findall(\"ail+\", txt)\n",
    "print(x)\n",
    "if x:\n",
    "  print(\"Yes, there is at least one match!\")\n",
    "else:\n",
    "  print(\"No match\")"
   ]
  },
  {
   "cell_type": "code",
   "execution_count": 10,
   "metadata": {},
   "outputs": [
    {
     "name": "stdout",
     "output_type": "stream",
     "text": [
      "['al']\n",
      "Yes, there is at least one match!\n"
     ]
    }
   ],
   "source": [
    "txt = \"abdulaziz murshed eid alhejaili 3700748\"\n",
    "x = re.findall(\"al{1}\", txt)\n",
    "print(x)\n",
    "if x:\n",
    "  print(\"Yes, there is at least one match!\")\n",
    "else:\n",
    "  print(\"No match\")\n",
    "\n"
   ]
  },
  {
   "cell_type": "code",
   "execution_count": 11,
   "metadata": {},
   "outputs": [
    {
     "name": "stdout",
     "output_type": "stream",
     "text": [
      "['eid']\n",
      "Yes, there is at least one match!\n"
     ]
    }
   ],
   "source": [
    "txt = \"abdulaziz murshed eid alhejaili 3700748\"\n",
    "x = re.findall(\"eid|azoz\", txt)\n",
    "print(x)\n",
    "if x:\n",
    "  print(\"Yes, there is at least one match!\")\n",
    "else:\n",
    "  print(\"No match\")"
   ]
  },
  {
   "cell_type": "code",
   "execution_count": 12,
   "metadata": {},
   "outputs": [
    {
     "name": "stdout",
     "output_type": "stream",
     "text": [
      "['a', 'a']\n",
      "Yes, there is at least one match!\n"
     ]
    }
   ],
   "source": [
    "txt = \"abdulaziz murshed eid alhejaili 3700748\"\n",
    "x = re.findall(r\"\\ba\", txt)\n",
    "print(x)\n",
    "if x:\n",
    "  print(\"Yes, there is at least one match!\")\n",
    "else:\n",
    "  print(\"No match\")"
   ]
  },
  {
   "cell_type": "code",
   "execution_count": 13,
   "metadata": {},
   "outputs": [
    {
     "name": "stdout",
     "output_type": "stream",
     "text": [
      "['d', 'd']\n",
      "Yes, there is at least one match!\n"
     ]
    }
   ],
   "source": [
    "txt = \"abdulaziz murshed eid alhejaili 3700748\"\n",
    "x = re.findall(r\"d\\b\", txt)\n",
    "print(x)\n",
    "if x:\n",
    "  print(\"Yes, there is at least one match!\")\n",
    "else:\n",
    "  print(\"No match\")"
   ]
  },
  {
   "cell_type": "code",
   "execution_count": 14,
   "metadata": {},
   "outputs": [
    {
     "name": "stdout",
     "output_type": "stream",
     "text": [
      "['az']\n",
      "Yes, there is at least one match!\n"
     ]
    }
   ],
   "source": [
    "txt = \"abdulaziz murshed eid alhejaili 3700748\"\n",
    "x = re.findall(r\"\\Baz\", txt)\n",
    "\n",
    "print(x)\n",
    "\n",
    "if x:\n",
    "  print(\"Yes, there is at least one match!\")\n",
    "else:\n",
    "  print(\"No match\")"
   ]
  },
  {
   "cell_type": "code",
   "execution_count": 15,
   "metadata": {},
   "outputs": [
    {
     "name": "stdout",
     "output_type": "stream",
     "text": [
      "['sh']\n",
      "Yes, there is at least one match!\n"
     ]
    }
   ],
   "source": [
    "txt = \"abdulaziz murshed eid alhejaili 3700748\"\n",
    "x = re.findall(r\"sh\\B\", txt)\n",
    "print(x)\n",
    "if x:\n",
    "  print(\"Yes, there is at least one match!\")\n",
    "else:\n",
    "  print(\"No match\")"
   ]
  },
  {
   "cell_type": "code",
   "execution_count": 16,
   "metadata": {},
   "outputs": [
    {
     "name": "stdout",
     "output_type": "stream",
     "text": [
      " in a string or \n"
     ]
    }
   ],
   "source": [
    "txt = \"Regular expression is a sequence of character(s) mainly us ed to find and replace patterns in a string or file\"\n",
    "start = txt.find(\"patterns\") + len(\"patterns\")\n",
    "end = txt.find(\"file\")\n",
    "substring = txt[start:end]\n",
    "print(substring)\n"
   ]
  },
  {
   "cell_type": "code",
   "execution_count": 17,
   "metadata": {},
   "outputs": [
    {
     "name": "stdout",
     "output_type": "stream",
     "text": [
      "Regular expression is a sequence of character(s) mainly us ed to find and replace patterns in a string or file\n"
     ]
    }
   ],
   "source": [
    "txt = \"Regular expression is a sequence of character(s) mainly us ed to find and replace patterns in a string or file\"\n",
    "start = txt.find(\"Regular\") \n",
    "end = txt.find(\"file\") + + len(\"file\")\n",
    "substring = txt[start:end]\n",
    "print(substring)"
   ]
  },
  {
   "cell_type": "code",
   "execution_count": 18,
   "metadata": {},
   "outputs": [
    {
     "name": "stdout",
     "output_type": "stream",
     "text": [
      "We will see how to replace words using regu lar expressions such does not, can not and so on\n"
     ]
    }
   ],
   "source": [
    "replacement_patterns = [ (r'won\\'t', 'will not'), (r'can\\'t', 'can not'), (r'i\\'m', 'i am'), (r'ain\\'t', 'is not'),(r'(\\w+)\\'ll', '\\g<1> will'), (r'(\\w+)n\\'t', '\\g<1> not'), (r'(\\w+)\\'ve', '\\g<1> have'),(r'(\\w+)\\'s', '\\g<1> is'), (r'(\\w+)\\'re', '\\g<1> are'), (r'(\\w+)\\'d', '\\g<1> would')]\n",
    "class RegexReplacer(object):\n",
    "  def __init__(self, patterns=replacement_patterns):\n",
    "    self.patterns = [(re.compile(regex), repl) for (regex, repl)in patterns]\n",
    "  def replace(self, text):\n",
    "    s = text\n",
    "    for (pattern, repl) in self.patterns:\n",
    "      (s, count) = re.subn(pattern, repl, s)\n",
    "    return s\n",
    "\n",
    "a= RegexReplacer()\n",
    "aaa=\"We'll see how to replace words using regu lar expressions such doesn't, can't and so on\"\n",
    "print(a.replace(aaa))"
   ]
  },
  {
   "cell_type": "code",
   "execution_count": 19,
   "metadata": {},
   "outputs": [
    {
     "name": "stdout",
     "output_type": "stream",
     "text": [
      "type :high hdhfg\n"
     ]
    },
    {
     "data": {
      "text/plain": [
       "'high hdhfg'"
      ]
     },
     "execution_count": 19,
     "metadata": {},
     "output_type": "execute_result"
    }
   ],
   "source": [
    "class RepeatReplacer(object):\n",
    "    def __init__(self):\n",
    "        self.repeat_regexp = re.compile(r'(\\w*)(\\w)\\2(\\w*)')\n",
    "        self.repl = r'\\1\\2\\3' \n",
    "    def replace(self, word):\n",
    "        repl_word = self.repeat_regexp.sub(self.repl, word) \n",
    "        if repl_word != word:\n",
    "            return self.replace(repl_word) \n",
    "        else:\n",
    "            return repl_word\n",
    "\n",
    "a= RepeatReplacer()\n",
    "aaa = input(\"type :\")\n",
    "a.replace(aaa)"
   ]
  },
  {
   "cell_type": "code",
   "execution_count": 53,
   "metadata": {
    "scrolled": false
   },
   "outputs": [
    {
     "name": "stdout",
     "output_type": "stream",
     "text": [
      "['chatbot', 'chatbot', 'chatbot', 'chatbot', 'chatbot', 'chatbot', 'chatbot', 'chatbot', 'chatbot', 'chatbot', 'chatbot', 'chatbot', 'chatbot', 'chatbot', 'chatbot', 'chatbot', 'chatbot', 'chatbot', 'chatbot', 'chatbot', 'chatbot', 'chatbot', 'chatbot', 'chatbot', 'chatbot', 'chatbot', 'chatbot', 'chatbot', 'chatbot', 'chatbot', 'chatbot', 'chatbot', 'chatbot', 'chatbot', 'chatbot', 'chatbot', 'chatbot', 'chatbot', 'chatbot', 'chatbot', 'chatbot', 'chatbot', 'chatbot', 'chatbot', 'chatbot', 'chatbot', 'chatbot', 'chatbot', 'chatbot', 'chatbot', 'chatbot', 'chatbot', 'chatbot', 'chatbot', 'chatbot', 'chatbot', 'chatbot', 'chatbot', 'chatbot', 'chatbot', 'chatbot', 'chatbot', 'chatbot', 'chatbot', 'chatbot']\n",
      "Yes, there is at least one match!\n"
     ]
    }
   ],
   "source": [
    "from urllib.request import urlopen\n",
    "from bs4 import BeautifulSoup\n",
    "url = \"https://www.oracle.com/sa/solutions/chatbots/what-is-a-chatbot/\"\n",
    "html = urlopen(url).read()\n",
    "soup = BeautifulSoup(html, features=\"html.parser\")\n",
    "# kill all script and style elements\n",
    "for script in soup([\"script\", \"style\"]):\n",
    "    script.extract()    # rip it out\n",
    "# get text\n",
    "text = soup.get_text()\n",
    "# break into lines and remove leading and trailing space on each\n",
    "lines = (line.strip() for line in text.splitlines())\n",
    "# break multi-headlines into a line each\n",
    "chunks = (phrase.strip() for line in lines for phrase in line.split(\"  \"))\n",
    "# drop blank lines\n",
    "text = '\\n'.join(chunk for chunk in chunks if chunk)\n",
    "\n",
    "x = re.findall(\"chatbot|azoz\", text)\n",
    "print(x)\n",
    "if x:\n",
    "  print(\"Yes, there is at least one match!\")\n",
    "else:\n",
    "  print(\"No match\")\n",
    "\n",
    "#print(text)"
   ]
  }
 ],
 "metadata": {
  "kernelspec": {
   "display_name": "Python 3",
   "language": "python",
   "name": "python3"
  },
  "language_info": {
   "codemirror_mode": {
    "name": "ipython",
    "version": 3
   },
   "file_extension": ".py",
   "mimetype": "text/x-python",
   "name": "python",
   "nbconvert_exporter": "python",
   "pygments_lexer": "ipython3",
   "version": "3.8.3"
  }
 },
 "nbformat": 4,
 "nbformat_minor": 4
}
