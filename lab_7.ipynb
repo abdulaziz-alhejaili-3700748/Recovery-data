{
 "cells": [
  {
   "cell_type": "code",
   "execution_count": 1,
   "metadata": {},
   "outputs": [
    {
     "data": {
      "text/plain": [
       "{'Hello': [5, [3, 10, 23, 27]]}"
      ]
     },
     "execution_count": 1,
     "metadata": {},
     "output_type": "execute_result"
    }
   ],
   "source": [
    "{\"Hello\": [5,[3,10,23,27]]}"
   ]
  },
  {
   "cell_type": "code",
   "execution_count": 2,
   "metadata": {},
   "outputs": [
    {
     "name": "stderr",
     "output_type": "stream",
     "text": [
      "[nltk_data] Downloading package stopwords to\n",
      "[nltk_data]     /Users/abdulazizalhejaili/nltk_data...\n",
      "[nltk_data]   Package stopwords is already up-to-date!\n",
      "[nltk_data] Downloading package punkt to\n",
      "[nltk_data]     /Users/abdulazizalhejaili/nltk_data...\n",
      "[nltk_data]   Unzipping tokenizers/punkt.zip.\n"
     ]
    },
    {
     "data": {
      "text/plain": [
       "True"
      ]
     },
     "execution_count": 2,
     "metadata": {},
     "output_type": "execute_result"
    }
   ],
   "source": [
    "import pandas as pd\n",
    "import numpy as np\n",
    "import nltk\n",
    "nltk.download('stopwords')\n",
    "nltk.download('punkt')"
   ]
  },
  {
   "cell_type": "code",
   "execution_count": 3,
   "metadata": {},
   "outputs": [],
   "source": [
    "from nltk.corpus import stopwords\n",
    "from nltk.tokenize import word_tokenize\n",
    "from nltk.stem import PorterStemmer\n",
    "import os\n",
    "import string\n",
    "import copy\n",
    "import pickle"
   ]
  },
  {
   "cell_type": "code",
   "execution_count": 24,
   "metadata": {},
   "outputs": [
    {
     "name": "stdout",
     "output_type": "stream",
     "text": [
      "/Users/abdulazizalhejaili/Desktop/mini_newsgroups/comp.graphics/\n"
     ]
    }
   ],
   "source": [
    "title = \"comp.graphics\"\n",
    "os.chdir(\"/Users/abdulazizalhejaili/Desktop/mini_newsgroups\")\n",
    "paths= []\n",
    "for (dirpath, dirnames, filenames) in os.walk(str(os.getcwd())+'/'+title+'/'): \n",
    "    for i in filenames: \n",
    "        paths.append(str(dirpath)+str(\"/\")+i)\n",
    "print(dirpath)"
   ]
  },
  {
   "cell_type": "code",
   "execution_count": 25,
   "metadata": {},
   "outputs": [
    {
     "data": {
      "text/plain": [
       "'/Users/abdulazizalhejaili/Desktop/mini_newsgroups/comp.graphics//38402'"
      ]
     },
     "execution_count": 25,
     "metadata": {},
     "output_type": "execute_result"
    }
   ],
   "source": [
    "paths[0]"
   ]
  },
  {
   "cell_type": "code",
   "execution_count": 21,
   "metadata": {},
   "outputs": [
    {
     "data": {
      "text/plain": [
       "100"
      ]
     },
     "execution_count": 21,
     "metadata": {},
     "output_type": "execute_result"
    }
   ],
   "source": [
    "len(paths)"
   ]
  },
  {
   "cell_type": "code",
   "execution_count": 7,
   "metadata": {},
   "outputs": [],
   "source": [
    "def remove_stop_words(data):\n",
    "    stop_words = stopwords.words('english')\n",
    "    words = word_tokenize(str(data))\n",
    "    new_text = \"\"\n",
    "    for w in words:\n",
    "        if w not in stop_words:\n",
    "            new_text = new_text + \" \" + w\n",
    "    return np.char.strip(new_text)"
   ]
  },
  {
   "cell_type": "code",
   "execution_count": 8,
   "metadata": {},
   "outputs": [],
   "source": [
    "def remove_punctuation(data):\n",
    "    symbols = \"!\\\"#$%&()*+-./:;<=>?@[\\]^_`{|}~\\n\"\n",
    "    for i in range(len(symbols)):\n",
    "        data = np.char.replace(data, symbols[i], '')\n",
    "        data = np.char.replace(data, \" \", \" \")\n",
    "    data = np.char.replace(data, ',', '')\n",
    "    return data"
   ]
  },
  {
   "cell_type": "code",
   "execution_count": 9,
   "metadata": {},
   "outputs": [],
   "source": [
    "def convert_lower_case(data):\n",
    "    return np.char.lower(data)"
   ]
  },
  {
   "cell_type": "code",
   "execution_count": 10,
   "metadata": {},
   "outputs": [],
   "source": [
    "def stemming(data):\n",
    "    stemmer= PorterStemmer()\n",
    "    tokens = word_tokenize(str(data))\n",
    "    new_text = \"\"\n",
    "    for w in tokens:\n",
    "        new_text = new_text + \" \" + stemmer.stem(w)\n",
    "    return np.char.strip(new_text)"
   ]
  },
  {
   "cell_type": "code",
   "execution_count": 11,
   "metadata": {},
   "outputs": [],
   "source": [
    "def convert_numbers(data):\n",
    "    data = np.char.replace(data, \"0\", \" zero \")\n",
    "    data = np.char.replace(data, \"1\", \" one \")\n",
    "    data = np.char.replace(data, \"2\", \" two \")\n",
    "    data = np.char.replace(data, \"3\", \" three \")\n",
    "    data = np.char.replace(data, \"4\", \" four \")\n",
    "    data = np.char.replace(data, \"5\", \" five \")\n",
    "    data = np.char.replace(data, \"6\", \" six \")\n",
    "    data = np.char.replace(data, \"7\", \" seven \")\n",
    "    data = np.char.replace(data, \"8\", \" eight \")\n",
    "    data = np.char.replace(data, \"9\", \" nine \")\n",
    "    return data"
   ]
  },
  {
   "cell_type": "code",
   "execution_count": 12,
   "metadata": {},
   "outputs": [],
   "source": [
    "def remove_header(data):\n",
    "    try:\n",
    "        ind = data.index('\\n\\n')\n",
    "        data = data[ind:]\n",
    "    except:\n",
    "        print(\"No Header\")\n",
    "    return data"
   ]
  },
  {
   "cell_type": "code",
   "execution_count": 13,
   "metadata": {},
   "outputs": [],
   "source": [
    "def remove_apostrophe(data):\n",
    "    return np.char.replace(data, \"'\", \"\")"
   ]
  },
  {
   "cell_type": "code",
   "execution_count": 14,
   "metadata": {},
   "outputs": [],
   "source": [
    "def remove_single_characters(data):\n",
    "    words = word_tokenize(str(data))\n",
    "    new_text = \"\"\n",
    "    for w in words:\n",
    "        if len(w) > 1:\n",
    "            new_text = new_text + \" \" + w\n",
    "    return np.char.strip(new_text)"
   ]
  },
  {
   "cell_type": "code",
   "execution_count": 15,
   "metadata": {},
   "outputs": [],
   "source": [
    "def preprocess(data, query):\n",
    "    if not query:\n",
    "        data = remove_header(data) \n",
    "        data = convert_lower_case(data)\n",
    "        data = convert_numbers(data)\n",
    "        data = remove_punctuation(data)\n",
    "        data = remove_stop_words(data)\n",
    "        data = remove_apostrophe(data)\n",
    "        data = remove_single_characters(data)\n",
    "        data = stemming(data) \n",
    "    return data"
   ]
  },
  {
   "cell_type": "code",
   "execution_count": 26,
   "metadata": {},
   "outputs": [
    {
     "name": "stdout",
     "output_type": "stream",
     "text": [
      "0\n"
     ]
    }
   ],
   "source": [
    "postings = pd.DataFrame()\n",
    "frequency = pd.DataFrame()\n",
    "doc = 0\n",
    "for path in paths:\n",
    "    file = open(path, 'r', encoding='cp1250')\n",
    "    text = file.read().strip()\n",
    "    file.close()\n",
    "    preprocessed_text = preprocess(text, False)\n",
    "    if doc%100 == 0:\n",
    "        print(doc)\n",
    "    tokens = word_tokenize(str(preprocessed_text))\n",
    "    \n",
    "    pos = 0\n",
    "    for token in tokens:\n",
    "        if token in postings:\n",
    "            p = postings[token][0]\n",
    "            \n",
    "            k = [a[0] for a in p]\n",
    "            if doc in k:\n",
    "                for a in p:\n",
    "                    if a[0] == doc:\n",
    "                        a[1].add(pos)\n",
    "            else:\n",
    "                p.append([doc,{pos}])\n",
    "                frequency[token][0] += 1\n",
    "        else:\n",
    "            postings.insert(value=[[[doc, {pos}]]], loc=0, column=token)\n",
    "            frequency.insert(value=[1], loc=0, column=token)\n",
    "            \n",
    "        pos += 1\n",
    "    doc += 1"
   ]
  },
  {
   "cell_type": "code",
   "execution_count": 27,
   "metadata": {},
   "outputs": [
    {
     "data": {
      "text/html": [
       "<div>\n",
       "<style scoped>\n",
       "    .dataframe tbody tr th:only-of-type {\n",
       "        vertical-align: middle;\n",
       "    }\n",
       "\n",
       "    .dataframe tbody tr th {\n",
       "        vertical-align: top;\n",
       "    }\n",
       "\n",
       "    .dataframe thead th {\n",
       "        text-align: right;\n",
       "    }\n",
       "</style>\n",
       "<table border=\"1\" class=\"dataframe\">\n",
       "  <thead>\n",
       "    <tr style=\"text-align: right;\">\n",
       "      <th></th>\n",
       "      <th>correctcan</th>\n",
       "      <th>univesadriverbut</th>\n",
       "      <th>colorswhil</th>\n",
       "      <th>bocax</th>\n",
       "      <th>povrender</th>\n",
       "      <th>hallo</th>\n",
       "      <th>svgadav</th>\n",
       "      <th>chapter</th>\n",
       "      <th>ferraro</th>\n",
       "      <th>rimmer</th>\n",
       "      <th>...</th>\n",
       "      <th>graphic</th>\n",
       "      <th>zero</th>\n",
       "      <th>nine</th>\n",
       "      <th>weitek</th>\n",
       "      <th>know</th>\n",
       "      <th>anyon</th>\n",
       "      <th>write</th>\n",
       "      <th>green</th>\n",
       "      <th>joe</th>\n",
       "      <th>jgreenamb</th>\n",
       "    </tr>\n",
       "  </thead>\n",
       "  <tbody>\n",
       "    <tr>\n",
       "      <th>0</th>\n",
       "      <td>[[99, {20}]]</td>\n",
       "      <td>[[99, {17}]]</td>\n",
       "      <td>[[99, {12}]]</td>\n",
       "      <td>[[99, {4}]]</td>\n",
       "      <td>[[99, {1}]]</td>\n",
       "      <td>[[99, {0}]]</td>\n",
       "      <td>[[98, {108}]]</td>\n",
       "      <td>[[98, {106}]]</td>\n",
       "      <td>[[98, {93}]]</td>\n",
       "      <td>[[98, {76}]]</td>\n",
       "      <td>...</td>\n",
       "      <td>[[0, {11}], [1, {9}], [2, {3584, 5504, 1163, 3...</td>\n",
       "      <td>[[0, {8, 9, 10}], [1, {33, 34, 35, 25, 59, 60,...</td>\n",
       "      <td>[[0, {7}], [1, {47}], [2, {4096, 6656, 1026, 1...</td>\n",
       "      <td>[[0, {13, 6}]]</td>\n",
       "      <td>[[0, {5}], [1, {69}], [2, {3105, 6466, 6217, 6...</td>\n",
       "      <td>[[0, {4}], [2, {951}], [3, {137, 413}], [7, {3...</td>\n",
       "      <td>[[0, {3}], [2, {3077, 2728, 6157, 5230, 6293}]...</td>\n",
       "      <td>[[0, {2}]]</td>\n",
       "      <td>[[0, {1}], [2, {550}], [28, {41}], [76, {59}]]</td>\n",
       "      <td>[[0, {0}]]</td>\n",
       "    </tr>\n",
       "  </tbody>\n",
       "</table>\n",
       "<p>1 rows × 6538 columns</p>\n",
       "</div>"
      ],
      "text/plain": [
       "     correctcan univesadriverbut    colorswhil        bocax    povrender  \\\n",
       "0  [[99, {20}]]     [[99, {17}]]  [[99, {12}]]  [[99, {4}]]  [[99, {1}]]   \n",
       "\n",
       "         hallo        svgadav        chapter       ferraro        rimmer  ...  \\\n",
       "0  [[99, {0}]]  [[98, {108}]]  [[98, {106}]]  [[98, {93}]]  [[98, {76}]]  ...   \n",
       "\n",
       "                                             graphic  \\\n",
       "0  [[0, {11}], [1, {9}], [2, {3584, 5504, 1163, 3...   \n",
       "\n",
       "                                                zero  \\\n",
       "0  [[0, {8, 9, 10}], [1, {33, 34, 35, 25, 59, 60,...   \n",
       "\n",
       "                                                nine          weitek  \\\n",
       "0  [[0, {7}], [1, {47}], [2, {4096, 6656, 1026, 1...  [[0, {13, 6}]]   \n",
       "\n",
       "                                                know  \\\n",
       "0  [[0, {5}], [1, {69}], [2, {3105, 6466, 6217, 6...   \n",
       "\n",
       "                                               anyon  \\\n",
       "0  [[0, {4}], [2, {951}], [3, {137, 413}], [7, {3...   \n",
       "\n",
       "                                               write       green  \\\n",
       "0  [[0, {3}], [2, {3077, 2728, 6157, 5230, 6293}]...  [[0, {2}]]   \n",
       "\n",
       "                                              joe   jgreenamb  \n",
       "0  [[0, {1}], [2, {550}], [28, {41}], [76, {59}]]  [[0, {0}]]  \n",
       "\n",
       "[1 rows x 6538 columns]"
      ]
     },
     "execution_count": 27,
     "metadata": {},
     "output_type": "execute_result"
    }
   ],
   "source": [
    "postings"
   ]
  },
  {
   "cell_type": "code",
   "execution_count": 28,
   "metadata": {},
   "outputs": [
    {
     "data": {
      "text/plain": [
       "0    [[2, {133, 3476, 4116, 791, 4124, 1310, 167, 5...\n",
       "Name: call, dtype: object"
      ]
     },
     "execution_count": 28,
     "metadata": {},
     "output_type": "execute_result"
    }
   ],
   "source": [
    "postings[\"call\"]"
   ]
  },
  {
   "cell_type": "code",
   "execution_count": 29,
   "metadata": {},
   "outputs": [],
   "source": [
    "postings.to_pickle(title + \"_positional_postings\") \n",
    "frequency.to_pickle(title + \"_positional_frequency\")"
   ]
  },
  {
   "cell_type": "code",
   "execution_count": 30,
   "metadata": {},
   "outputs": [],
   "source": [
    "postings = pd.read_pickle(title + \"_positional_postings\")"
   ]
  },
  {
   "cell_type": "code",
   "execution_count": 31,
   "metadata": {},
   "outputs": [],
   "source": [
    "frequency = pd.read_pickle(title + \"_positional_frequency\")"
   ]
  },
  {
   "cell_type": "code",
   "execution_count": 32,
   "metadata": {},
   "outputs": [],
   "source": [
    "def get_word_postings(word):\n",
    "    preprocessed_word = str(preprocess(word, True))\n",
    "    print(preprocessed_word)\n",
    "    print(\"Frequency:\",frequency[preprocessed_word][0])\n",
    "    print(\"Postings List:\",postings[preprocessed_word][0])\n",
    "    \n",
    "def get_positions(posting_values, doc):\n",
    "    for posting_value in posting_values:\n",
    "        if posting_value[0] == doc:\n",
    "            return posting_value[1]\n",
    "    return {}\n",
    "\n",
    "def gen_init_set_matchings(word):\n",
    "    init = []\n",
    "    word_postings = postings[word][0]\n",
    "    for word_posting in word_postings:\n",
    "        for positions in word_posting[1]:\n",
    "            init.append((word_posting[0], positions))\n",
    "    return init\n",
    "\n",
    "def match_positional_index(init, b):\n",
    "    matched_docs = []\n",
    "    for p in init:\n",
    "        doc = p[0]\n",
    "        pos = p[1]\n",
    "\n",
    "        count = 0\n",
    "\n",
    "        for k in b:\n",
    "            pos = pos+1\n",
    "            k_pos = postings[k][0]\n",
    "            docs_list = [z[0] for z in k_pos]\n",
    "            if doc in docs_list:\n",
    "                doc_positions = get_positions(k_pos, doc)\n",
    "                if pos in doc_positions:\n",
    "                    count += 1\n",
    "                else:\n",
    "                    count += 1\n",
    "                    break\n",
    "\n",
    "            if count == len(b):\n",
    "                matched_docs.append(p[0])\n",
    "    return set(matched_docs)\n",
    "\n",
    "def run_query(query):\n",
    "    processed_query = preprocess(query, True)\n",
    "    print(processed_query)\n",
    "\n",
    "    query_tokens = word_tokenize(str(processed_query))\n",
    "    print(query_tokens)\n",
    "    \n",
    "    if len(query_tokens)==1:\n",
    "        print(\"Total Document Mathces\", [a[0] for a in postings[query][0]])\n",
    "        return [a[0] for a in postings[query][0]]\n",
    "    \n",
    "    init_word = query_tokens[0]\n",
    "    init_matches = gen_init_set_matchings(init_word)\n",
    "\n",
    "    query_tokens.pop(0)\n",
    "    total_matched_docs = match_positional_index(init_matches, query_tokens)\n",
    "    print(\"Total Document Matches:\", total_matched_docs)\n",
    "    return total_matched_docs"
   ]
  },
  {
   "cell_type": "code",
   "execution_count": 33,
   "metadata": {},
   "outputs": [
    {
     "name": "stdout",
     "output_type": "stream",
     "text": [
      "fontmong\n",
      "Frequency: 1\n",
      "Postings List: [[89, {92}]]\n"
     ]
    }
   ],
   "source": [
    "get_word_postings(\"fontmong\")"
   ]
  },
  {
   "cell_type": "code",
   "execution_count": 34,
   "metadata": {},
   "outputs": [
    {
     "name": "stdout",
     "output_type": "stream",
     "text": [
      "fontmong got\n",
      "['fontmong', 'got']\n",
      "Total Document Matches: set()\n"
     ]
    }
   ],
   "source": [
    "query = \"fontmong got\"\n",
    "lists = run_query(query)"
   ]
  },
  {
   "cell_type": "code",
   "execution_count": 35,
   "metadata": {},
   "outputs": [
    {
     "data": {
      "text/plain": [
       "0    [[2, {640, 5698, 4899, 4900, 4773, 4844, 4940,...\n",
       "Name: render, dtype: object"
      ]
     },
     "execution_count": 35,
     "metadata": {},
     "output_type": "execute_result"
    }
   ],
   "source": [
    "postings[\"render\"]"
   ]
  },
  {
   "cell_type": "code",
   "execution_count": 36,
   "metadata": {},
   "outputs": [
    {
     "name": "stdout",
     "output_type": "stream",
     "text": [
      "     correctcan univesadriverbut    colorswhil        bocax    povrender  \\\n",
      "0  [[99, {20}]]     [[99, {17}]]  [[99, {12}]]  [[99, {4}]]  [[99, {1}]]   \n",
      "\n",
      "         hallo        svgadav        chapter       ferraro        rimmer  ...  \\\n",
      "0  [[99, {0}]]  [[98, {108}]]  [[98, {106}]]  [[98, {93}]]  [[98, {76}]]  ...   \n",
      "\n",
      "                                             graphic  \\\n",
      "0  [[0, {11}], [1, {9}], [2, {3584, 5504, 1163, 3...   \n",
      "\n",
      "                                                zero  \\\n",
      "0  [[0, {8, 9, 10}], [1, {33, 34, 35, 25, 59, 60,...   \n",
      "\n",
      "                                                nine          weitek  \\\n",
      "0  [[0, {7}], [1, {47}], [2, {4096, 6656, 1026, 1...  [[0, {13, 6}]]   \n",
      "\n",
      "                                                know  \\\n",
      "0  [[0, {5}], [1, {69}], [2, {3105, 6466, 6217, 6...   \n",
      "\n",
      "                                               anyon  \\\n",
      "0  [[0, {4}], [2, {951}], [3, {137, 413}], [7, {3...   \n",
      "\n",
      "                                               write       green  \\\n",
      "0  [[0, {3}], [2, {3077, 2728, 6157, 5230, 6293}]...  [[0, {2}]]   \n",
      "\n",
      "                                              joe   jgreenamb  \n",
      "0  [[0, {1}], [2, {550}], [28, {41}], [76, {59}]]  [[0, {0}]]  \n",
      "\n",
      "[1 rows x 6538 columns]\n",
      "['correctcan', 'univesadriverbut', 'colorswhil', 'bocax', 'povrender', '\\\\', '0', '[', '[', '99', ',', '{', '20', '}', ']', ']', '[', '[', '99', ',', '{', '17', '}', ']', ']', '[', '[', '99', ',', '{', '12', '}', ']', ']', '[', '[', '99', ',', '{', '4', '}', ']', ']', '[', '[', '99', ',', '{', '1', '}', ']', ']', 'hallo', 'svgadav', 'chapter', 'ferraro', 'rimmer', '...', '\\\\', '0', '[', '[', '99', ',', '{', '0', '}', ']', ']', '[', '[', '98', ',', '{', '108', '}', ']', ']', '[', '[', '98', ',', '{', '106', '}', ']', ']', '[', '[', '98', ',', '{', '93', '}', ']', ']', '[', '[', '98', ',', '{', '76', '}', ']', ']', '...', 'graphic', '\\\\', '0', '[', '[', '0', ',', '{', '11', '}', ']', ',', '[', '1', ',', '{', '9', '}', ']', ',', '[', '2', ',', '{', '3584', ',', '5504', ',', '1163', ',', '3', '...', 'zero', '\\\\', '0', '[', '[', '0', ',', '{', '8', ',', '9', ',', '10', '}', ']', ',', '[', '1', ',', '{', '33', ',', '34', ',', '35', ',', '25', ',', '59', ',', '60', ',', '...', 'nine', 'weitek', '\\\\', '0', '[', '[', '0', ',', '{', '7', '}', ']', ',', '[', '1', ',', '{', '47', '}', ']', ',', '[', '2', ',', '{', '4096', ',', '6656', ',', '1026', ',', '1', '...', '[', '[', '0', ',', '{', '13', ',', '6', '}', ']', ']', 'know', '\\\\', '0', '[', '[', '0', ',', '{', '5', '}', ']', ',', '[', '1', ',', '{', '69', '}', ']', ',', '[', '2', ',', '{', '3105', ',', '6466', ',', '6217', ',', '6', '...', 'anyon', '\\\\', '0', '[', '[', '0', ',', '{', '4', '}', ']', ',', '[', '2', ',', '{', '951', '}', ']', ',', '[', '3', ',', '{', '137', ',', '413', '}', ']', ',', '[', '7', ',', '{', '3', '...', 'write', 'green', '\\\\', '0', '[', '[', '0', ',', '{', '3', '}', ']', ',', '[', '2', ',', '{', '3077', ',', '2728', ',', '6157', ',', '5230', ',', '6293', '}', ']', '...', '[', '[', '0', ',', '{', '2', '}', ']', ']', 'joe', 'jgreenamb', '0', '[', '[', '0', ',', '{', '1', '}', ']', ',', '[', '2', ',', '{', '550', '}', ']', ',', '[', '28', ',', '{', '41', '}', ']', ',', '[', '76', ',', '{', '59', '}', ']', ']', '[', '[', '0', ',', '{', '0', '}', ']', ']', '[', '1', 'rows', 'x', '6538', 'columns', ']']\n",
      "Total Document Matches: set()\n"
     ]
    }
   ],
   "source": [
    "query = postings\n",
    "lists = run_query(query)"
   ]
  },
  {
   "cell_type": "code",
   "execution_count": null,
   "metadata": {},
   "outputs": [],
   "source": []
  }
 ],
 "metadata": {
  "kernelspec": {
   "display_name": "Python 3",
   "language": "python",
   "name": "python3"
  },
  "language_info": {
   "codemirror_mode": {
    "name": "ipython",
    "version": 3
   },
   "file_extension": ".py",
   "mimetype": "text/x-python",
   "name": "python",
   "nbconvert_exporter": "python",
   "pygments_lexer": "ipython3",
   "version": "3.8.3"
  }
 },
 "nbformat": 4,
 "nbformat_minor": 4
}
